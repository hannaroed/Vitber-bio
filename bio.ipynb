{
 "cells": [
  {
   "cell_type": "markdown",
   "metadata": {},
   "source": [
    "# Biofysikk prosjekt"
   ]
  },
  {
   "cell_type": "code",
   "execution_count": 70,
   "metadata": {},
   "outputs": [],
   "source": [
    "import numpy as np\n",
    "import numba as nb\n",
    "from numba import njit, jit, int32\n",
    "import matplotlib.pyplot as plt"
   ]
  },
  {
   "cell_type": "markdown",
   "metadata": {},
   "source": [
    "#### Oppgave 1 Grunnleggende polymer-funksjonalitet\n",
    "a)\n",
    "Vi har valgt å representere hvert polymer som et N x 2 array. Polymeren er satt sammen av flere monomerer, der hvert element i polymer-arrayet er en monomer. (Seinere bruker vi kooordinaten til elementet i polymer-arrayet til å representere polymeren og monomerene i et kartesisk koordinatsystem???). \n",
    "\n",
    "Det er også mulig å representere et polymer av lengden N i et array av dimensjon M x M, der M => N. De resterende plassene i M x M arrayet, som ikke illustrer en monomer, ville vært representert av nullere. Dette ville vært overflødig data som vi ikke trenger for å arbeide videre med polymeren. Ved å lagre masse nullere, som vi ikke er avhegning av for å løse oppgavene, vil koden bli betydelig treigere.\n",
    "\n",
    "Dermed har vi valgt å jobbe med et N x 2 array for å unngå overflødig lagring av data, og oppnå raskest mulig kjøretid. \n",
    "\n",
    "\n",
    "(Finne ut hvor mye raskere/hvor mye midre tid dette tar)."
   ]
  },
  {
   "cell_type": "code",
   "execution_count": 71,
   "metadata": {},
   "outputs": [
    {
     "data": {
      "text/plain": [
       "array([[4, 0],\n",
       "       [4, 1],\n",
       "       [4, 2],\n",
       "       [4, 3],\n",
       "       [4, 4],\n",
       "       [4, 5],\n",
       "       [4, 6]], dtype=int32)"
      ]
     },
     "execution_count": 71,
     "metadata": {},
     "output_type": "execute_result"
    }
   ],
   "source": [
    "N = 7  # Lengde på polymer\n",
    "M = 9  # Gitterdimensjon\n",
    "\n",
    "#Definerer først polymer som er et Nx2 array med datatype 32 bit\n",
    "def init_polymer(N):\n",
    "    polymer = np.zeros((N, 2), dtype=np.int32)\n",
    "    polymer[:, 1] = np.arange(N) #np.arange(N)\n",
    "    polymer[:, 0] = M // 2\n",
    "    return polymer\n",
    "\n",
    "init_polymer(N)"
   ]
  },
  {
   "cell_type": "markdown",
   "metadata": {},
   "source": [
    "c) Når vi skal velge hvilket monomer som polymeret skal roteres rundt, så velges dette tilfeldig. Noe som er verdt å merke seg da er at dersom et polymer skal roteres om et endepunkt, så vil det ikke endre noe og polymeren vil forbli i ro. Dette er fordi vi med fordel har valgt at det alltid er den korte enden som skal roteres. Siden energien bestemmes av formen til polymeren, og den forblir uendret ved rotasjon om endemonomer, så vil energien også forbli uendret. Det vil altså hverken oppstå eller forsvinne noen vekselvirkninger mellom monomerer. Dette medfører at det vil være hensiksmessig å ikke inkludere endemonomerene i det tilfeldige utvalget monomeren trekkes fra. Vi vil derfor kun trekke fra 1 til N-1 i arrayet når vi skal velge hvilket monomer som skal roteres rundt. Dette vil være for å minimere kjøretiden til koden, siden den slipper å kjøre gjennom unødvendige steg. "
   ]
  },
  {
   "cell_type": "code",
   "execution_count": 72,
   "metadata": {},
   "outputs": [
    {
     "data": {
      "image/png": "[encoded data removed]",
      "text/plain": [
       "<Figure size 640x480 with 1 Axes>"
      ]
     },
     "metadata": {},
     "output_type": "display_data"
    }
   ],
   "source": [
    "#d)\n",
    "\"\"\"\n",
    "def plot_polymer(polymer):\n",
    "    plt.plot(polymer[:, 1], -polymer[:, 0], 'o-') # -polymer eller uten polymer\n",
    "    plt.axis('equal')\n",
    "    plt.show()\n",
    "\"\"\"\n",
    "\n",
    "def plot_polymer(polymer):\n",
    "    # Assuming 'polymer' is an Nx2 numpy array\n",
    "    plt.figure()\n",
    "    num_points = polymer.shape[0]\n",
    "\n",
    "    # Generating different shades of green\n",
    "    greens = np.linspace(0.3, 1, num_points)  # Adjust the range for different shades\n",
    "    colors = [(0, green, 0, 1) for green in greens]  # RGB tuples with varying green component\n",
    "\n",
    "    # Plot the lines first\n",
    "    plt.plot(polymer[:, 1], polymer[:, 0], 'o-', color='grey', markersize=10, linewidth=2)\n",
    "\n",
    "    # Now plot each point and its number\n",
    "    for i in range(num_points):\n",
    "        # Plot each point with a different color\n",
    "        plt.plot(polymer[i, 1], polymer[i, 0], 'o', color=colors[i], markersize=15)\n",
    "\n",
    "        # Centering the number on the dot\n",
    "        plt.text(polymer[i, 1], polymer[i, 0], str(i+1), color='black', fontsize=12, \n",
    "                 horizontalalignment='center', verticalalignment='center')\n",
    "\n",
    "    plt.title(\"\")\n",
    "    plt.axis('equal')\n",
    "    plt.grid()\n",
    "    plt.show()\n",
    "    \n",
    "plot_polymer(init_polymer(N))\n"
   ]
  },
  {
   "cell_type": "code",
   "execution_count": 73,
   "metadata": {},
   "outputs": [
    {
     "name": "stdout",
     "output_type": "stream",
     "text": [
      "True\n"
     ]
    }
   ],
   "source": [
    "# e)\n",
    "\n",
    "# @njit - Ikke raskere her?\n",
    "def polymer_check(polymer, N):\n",
    "    if len(polymer) != N:\n",
    "        return False\n",
    "    for i in range(N):\n",
    "        for j in range(N):\n",
    "            if i != j:\n",
    "                if polymer[i,0] == polymer[j,0] and polymer[i,1] == polymer[j,1]:\n",
    "                    return False\n",
    "    for i in range(N):\n",
    "        if i == 0 or i == N-1:\n",
    "            if not ((np.abs(polymer[i,0]-polymer[i+(-1 if i else 1),0]) == 1 and np.abs(polymer[i,1]-polymer[i+(-1 if i else 1),1]) == 0) or \n",
    "                    (np.abs(polymer[i,1]-polymer[i+(-1 if i else 1),1]) == 1 and np.abs(polymer[i,0]-polymer[i+(-1 if i else 1),0]) == 0)):\n",
    "                return False\n",
    "        else:\n",
    "            if not ((np.abs(polymer[i,0]-polymer[i+1,0]) == 1 and np.abs(polymer[i,1]-polymer[i+1,1]) == 0) or\n",
    "                    (np.abs(polymer[i,1]-polymer[i+1,1]) == 1 and np.abs(polymer[i,0]-polymer[i+1,0]) == 0) or\n",
    "                    (np.abs(polymer[i,0]-polymer[i-1,0]) == 1 and np.abs(polymer[i,1]-polymer[i-1,1]) == 0) or\n",
    "                    (np.abs(polymer[i,1]-polymer[i-1,1]) == 1 and np.abs(polymer[i,0]-polymer[i-1,0]) == 0)):\n",
    "                return False\n",
    "    return True\n",
    "\n",
    "print(polymer_check(init_polymer(7),7))"
   ]
  },
  {
   "cell_type": "code",
   "execution_count": 84,
   "metadata": {},
   "outputs": [],
   "source": [
    "from numba import jit, njit\n",
    "# njit: No-Python mode JIT (Just-In-Time compilation)\n",
    "\n",
    "CW_ROTATION_MATRIX = np.array([[0, -1], [1, 0]])\n",
    "CCW_ROTATION_MATRIX = np.array([[0,1], [-1,0]])\n",
    "\n",
    "# @njit\n",
    "def rotate_polymer(polymer: np.ndarray, clockwise: bool) -> np.ndarray: \n",
    "    \"\"\"\n",
    "    polymer: input polymer (or sub-polymer) (N x 2)\n",
    "    clockwise: direction of rotation\n",
    "    \"\"\"\n",
    "    # Rotate the polymer by 90 degrees in the right direction (matrix multiplication with rotation matrix, follow `clockwise`)\n",
    "    # Use the rotation matrices defined in constants above\n",
    "    rotation_matrix = CW_ROTATION_MATRIX if clockwise else CCW_ROTATION_MATRIX # Choose the right rotation matrix\n",
    "    rotated_polymer: np.ndarray = polymer @ rotation_matrix.T\n",
    "\n",
    "    return rotated_polymer\n",
    "\n",
    "# @njit\n",
    "def twist_polymer(polymer: np.ndarray, monomer_idx: int, clockwise: bool) -> np.ndarray: #Hjelp\n",
    "    \"\"\"\n",
    "    polymer: input polymer (N x 2)\n",
    "    monomer_idx: index of monomer to twist\n",
    "    clockwise: direction of twist\n",
    "    \"\"\"\n",
    "\n",
    "    # Check which side is shorter\n",
    "    shorter_side = monomer_idx < N - monomer_idx - 1 # True if shorter side is 0..=monomer_idx-1, False if shorter side is monomer_idx+1..=N-1\n",
    "\n",
    "    # Slice array to get the smaller side\n",
    "    if shorter_side:\n",
    "        shorter_sub_polymer = polymer[:monomer_idx+1]\n",
    "    else:\n",
    "        shorter_sub_polymer = polymer[monomer_idx:]\n",
    "\n",
    "    # Translate the shorter sub-polymer to origin at polymer[monomer_idx]\n",
    "    center = polymer[monomer_idx]\n",
    "    centered_sub_polymer = shorter_sub_polymer - center\n",
    "\n",
    "    # Rotate the shorter sub-polymer by 90 degrees in the right direction (matrix multiplication with rotation matrix, follow `clockwise`)\n",
    "    # Use the rotation matrices defined in constants above\n",
    "    rotation_matrix = CW_ROTATION_MATRIX if clockwise else CCW_ROTATION_MATRIX\n",
    "    rotated_sub_polymer = centered_sub_polymer @ rotation_matrix.T\n",
    "\n",
    "    # Translate back to get final sub_polymer position\n",
    "    twisted_sub_polymer = rotated_sub_polymer + center\n",
    "\n",
    "    # Combine the two sub-polymers into a new polymer\n",
    "    if shorter_side:\n",
    "        twisted_polymer = np.concatenate((twisted_sub_polymer, polymer[monomer_idx+1:]), axis=0)\n",
    "    else:\n",
    "        twisted_polymer = np.concatenate((polymer[:monomer_idx], twisted_sub_polymer), axis=0)\n",
    "\n",
    "    return twisted_polymer\n",
    "    \n",
    "\"\"\"\n",
    "# @njit uncomment!\n",
    "def valid_polymer(polymer: np.ndarray) -> bool: \n",
    "    # Needs to be fast!\n",
    "    raise NotImplementedError()\n",
    "\"\"\"\n",
    "\n",
    "#Algoritme1\n",
    "def random_rotations(polymer: np.ndarray, N_s: int) -> np.ndarray:\n",
    "    \"\"\"\n",
    "    polymer: input polymer (N x 2)\n",
    "    N_s: number of random rotation attempts\n",
    "    \"\"\"\n",
    "    counter = 0  # TODO: Make sure this is correct -- ask TA\n",
    "    current_polymer = polymer\n",
    "    clockwise_draws = np.random.rand(N_s) < 0.5\n",
    "    mon_idx_draws = np.random.randint(1, N - 1, size=N_s)  # Exclusive range [1, N-1), don't include end points\n",
    "    for i in range(N_s):\n",
    "        clockwise = clockwise_draws[i]\n",
    "        mon_idx = mon_idx_draws[i]\n",
    "        twisted_polymer = twist_polymer(polymer=current_polymer, monomer_idx=mon_idx, clockwise=clockwise)\n",
    "        if polymer_check(twisted_polymer, N):\n",
    "            counter += 1\n",
    "            current_polymer = twisted_polymer\n",
    "    return current_polymer, counter\n",
    "\n",
    "array1 = random_rotations(init_polymer(15), 4)[0]\n",
    "array2 = random_rotations(init_polymer(15), 1000)[0]"
   ]
  },
  {
   "cell_type": "code",
   "execution_count": 67,
   "metadata": {},
   "outputs": [],
   "source": [
    "# @njit\n",
    "def add_one(x):\n",
    "    for i in range(x.shape[0]):\n",
    "        x[i] += 1\n",
    "\n",
    "@njit\n",
    "def add_one_numba(x):\n",
    "    for i in range(x.shape[0]):\n",
    "        x[i] += 1\n",
    "\n",
    "arr = np.arange(10_000_000)"
   ]
  },
  {
   "cell_type": "code",
   "execution_count": 68,
   "metadata": {},
   "outputs": [
    {
     "name": "stdout",
     "output_type": "stream",
     "text": [
      "2.28 s ± 59.5 ms per loop (mean ± std. dev. of 7 runs, 1 loop each)\n",
      "5.12 ms ± 291 µs per loop (mean ± std. dev. of 7 runs, 100 loops each)\n"
     ]
    }
   ],
   "source": [
    "#h)\n",
    "%timeit add_one(arr)\n",
    "%timeit add_one_numba(arr)"
   ]
  },
  {
   "cell_type": "markdown",
   "metadata": {},
   "source": [
    "Skrive om hvordan vi fikk koden raskere."
   ]
  },
  {
   "cell_type": "code",
   "execution_count": 81,
   "metadata": {},
   "outputs": [
    {
     "name": "stdout",
     "output_type": "stream",
     "text": [
      "[[ 0.e+00  0.e+00 -1.e-21 -1.e-21 -1.e-21 -1.e-21 -1.e-21]\n",
      " [ 0.e+00  0.e+00  0.e+00 -1.e-21 -1.e-21 -1.e-21 -1.e-21]\n",
      " [-1.e-21  0.e+00  0.e+00  0.e+00 -1.e-21 -1.e-21 -1.e-21]\n",
      " [-1.e-21 -1.e-21  0.e+00  0.e+00  0.e+00 -1.e-21 -1.e-21]\n",
      " [-1.e-21 -1.e-21 -1.e-21  0.e+00  0.e+00  0.e+00 -1.e-21]\n",
      " [-1.e-21 -1.e-21 -1.e-21 -1.e-21  0.e+00  0.e+00  0.e+00]\n",
      " [-1.e-21 -1.e-21 -1.e-21 -1.e-21 -1.e-21  0.e+00  0.e+00]]\n"
     ]
    }
   ],
   "source": [
    "#j)\n",
    "def V_matrix(N, E):\n",
    "    V = np.full((N,N), E)\n",
    "    \n",
    "    for i in range(N):\n",
    "        for j in range(i-1, i+2):\n",
    "            if 0 <= j < N:\n",
    "                V[i, j] = 0       \n",
    "    return V \n",
    "\n",
    "print(V_matrix(7, -10**(-21)))\n",
    "#print(V_matrix(15))\n",
    "\n",
    "#def b_vector"
   ]
  },
  {
   "cell_type": "code",
   "execution_count": 75,
   "metadata": {},
   "outputs": [],
   "source": [
    "def calculate_energy(twisted_polymer: np.ndarray, V: np.ndarray) -> float: \n",
    "    \"\"\"\n",
    "    twisted_polymer: input polymer (N x 2)\n",
    "    V: interaction matrix (N x N)\n",
    "    \"\"\"\n",
    "    energy = 0\n",
    "\n",
    "    return energy\n",
    "\n",
    "#calculate_energy(twist_polymer(init_polymer(7), 4, True),V_matrix(7))"
   ]
  },
  {
   "cell_type": "code",
   "execution_count": 93,
   "metadata": {},
   "outputs": [],
   "source": [
    "# 2a)\n",
    "# Algoritme 2\n",
    "\n",
    "def simulate_energy(polymer, N_s, V, T):\n",
    "    E_array = np.zeros(N_s)\n",
    "    E = calculate_energy(polymer, V)\n",
    "    beta = 1 / (T)  # Example calculation, adjust as needed\n",
    "\n",
    "    i = 0\n",
    "    while i < N_s:\n",
    "        random_monomer = np.random.choice(len(polymer))  # Randomly choose a monomer\n",
    "        twist_clockwise = np.random.choice([True, False])  # Randomly choose the twist direction\n",
    "\n",
    "        twisted_polymer = twist_polymer(polymer, random_monomer, twist_clockwise)\n",
    "        if polymer_check(twisted_polymer, N):\n",
    "            i += 1\n",
    "            E_new = calculate_energy(twisted_polymer, V)\n",
    "            if E_new < E or np.random.rand() < np.exp(-beta * (E_new - E)):\n",
    "                polymer = twisted_polymer\n",
    "                E = E_new\n",
    "            E_array[i] = E\n",
    "\n",
    "    return polymer, E_array"
   ]
  },
  {
   "cell_type": "markdown",
   "metadata": {},
   "source": [
    "S beskriver en generell tilstand i systemet. \n"
   ]
  },
  {
   "cell_type": "code",
   "execution_count": 94,
   "metadata": {},
   "outputs": [
    {
     "ename": "KeyboardInterrupt",
     "evalue": "",
     "output_type": "error",
     "traceback": [
      "\u001b[0;31m---------------------------------------------------------------------------\u001b[0m",
      "\u001b[0;31mKeyboardInterrupt\u001b[0m                         Traceback (most recent call last)",
      "Cell \u001b[0;32mIn [94], line 11\u001b[0m\n\u001b[1;32m      8\u001b[0m V_1 \u001b[38;5;241m=\u001b[39m V_matrix(\u001b[38;5;241m22\u001b[39m, \u001b[38;5;241m-\u001b[39m\u001b[38;5;241m4.0\u001b[39m \u001b[38;5;241m*\u001b[39m \u001b[38;5;241m10\u001b[39m\u001b[38;5;241m*\u001b[39m\u001b[38;5;241m*\u001b[39m(\u001b[38;5;241m-\u001b[39m\u001b[38;5;241m21\u001b[39m))\n\u001b[1;32m      9\u001b[0m V_2 \u001b[38;5;241m=\u001b[39m V_matrix(\u001b[38;5;241m33\u001b[39m, \u001b[38;5;241m-\u001b[39m\u001b[38;5;241m4.0\u001b[39m \u001b[38;5;241m*\u001b[39m \u001b[38;5;241m10\u001b[39m\u001b[38;5;241m*\u001b[39m\u001b[38;5;241m*\u001b[39m(\u001b[38;5;241m-\u001b[39m\u001b[38;5;241m21\u001b[39m))\n\u001b[0;32m---> 11\u001b[0m energy_vals1 \u001b[38;5;241m=\u001b[39m \u001b[43msimulate_energy\u001b[49m\u001b[43m(\u001b[49m\u001b[43minit_polymer\u001b[49m\u001b[43m(\u001b[49m\u001b[38;5;241;43m22\u001b[39;49m\u001b[43m)\u001b[49m\u001b[43m,\u001b[49m\u001b[43m \u001b[49m\u001b[43mt\u001b[49m\u001b[43m,\u001b[49m\u001b[43m \u001b[49m\u001b[43mV_1\u001b[49m\u001b[43m,\u001b[49m\u001b[43m \u001b[49m\u001b[43mT_low\u001b[49m\u001b[43m)\u001b[49m\n\u001b[1;32m     13\u001b[0m energy_vals2 \u001b[38;5;241m=\u001b[39m simulate_energy(init_polymer(\u001b[38;5;241m33\u001b[39m), t, V_2, T_high)\n\u001b[1;32m     15\u001b[0m plt\u001b[38;5;241m.\u001b[39mtitle()\n",
      "Cell \u001b[0;32mIn [93], line 11\u001b[0m, in \u001b[0;36msimulate_energy\u001b[0;34m(polymer, N_s, V, T)\u001b[0m\n\u001b[1;32m      9\u001b[0m i \u001b[38;5;241m=\u001b[39m \u001b[38;5;241m0\u001b[39m\n\u001b[1;32m     10\u001b[0m \u001b[38;5;28;01mwhile\u001b[39;00m i \u001b[38;5;241m<\u001b[39m N_s:\n\u001b[0;32m---> 11\u001b[0m     random_monomer \u001b[38;5;241m=\u001b[39m \u001b[43mnp\u001b[49m\u001b[38;5;241;43m.\u001b[39;49m\u001b[43mrandom\u001b[49m\u001b[38;5;241;43m.\u001b[39;49m\u001b[43mchoice\u001b[49m\u001b[43m(\u001b[49m\u001b[38;5;28;43mlen\u001b[39;49m\u001b[43m(\u001b[49m\u001b[43mpolymer\u001b[49m\u001b[43m)\u001b[49m\u001b[43m)\u001b[49m  \u001b[38;5;66;03m# Randomly choose a monomer\u001b[39;00m\n\u001b[1;32m     12\u001b[0m     twist_clockwise \u001b[38;5;241m=\u001b[39m np\u001b[38;5;241m.\u001b[39mrandom\u001b[38;5;241m.\u001b[39mchoice([\u001b[38;5;28;01mTrue\u001b[39;00m, \u001b[38;5;28;01mFalse\u001b[39;00m])  \u001b[38;5;66;03m# Randomly choose the twist direction\u001b[39;00m\n\u001b[1;32m     14\u001b[0m     twisted_polymer \u001b[38;5;241m=\u001b[39m twist_polymer(polymer, random_monomer, twist_clockwise)\n",
      "File \u001b[0;32mmtrand.pyx:962\u001b[0m, in \u001b[0;36mnumpy.random.mtrand.RandomState.choice\u001b[0;34m()\u001b[0m\n",
      "File \u001b[0;32mmtrand.pyx:748\u001b[0m, in \u001b[0;36mnumpy.random.mtrand.RandomState.randint\u001b[0;34m()\u001b[0m\n",
      "File \u001b[0;32m_bounded_integers.pyx:1228\u001b[0m, in \u001b[0;36mnumpy.random._bounded_integers._rand_int64\u001b[0;34m()\u001b[0m\n",
      "File \u001b[0;32m<__array_function__ internals>:180\u001b[0m, in \u001b[0;36mprod\u001b[0;34m(*args, **kwargs)\u001b[0m\n",
      "File \u001b[0;32m/Library/Frameworks/Python.framework/Versions/3.9/lib/python3.9/site-packages/numpy/core/fromnumeric.py:3045\u001b[0m, in \u001b[0;36mprod\u001b[0;34m(a, axis, dtype, out, keepdims, initial, where)\u001b[0m\n\u001b[1;32m   2927\u001b[0m \u001b[38;5;129m@array_function_dispatch\u001b[39m(_prod_dispatcher)\n\u001b[1;32m   2928\u001b[0m \u001b[38;5;28;01mdef\u001b[39;00m \u001b[38;5;21mprod\u001b[39m(a, axis\u001b[38;5;241m=\u001b[39m\u001b[38;5;28;01mNone\u001b[39;00m, dtype\u001b[38;5;241m=\u001b[39m\u001b[38;5;28;01mNone\u001b[39;00m, out\u001b[38;5;241m=\u001b[39m\u001b[38;5;28;01mNone\u001b[39;00m, keepdims\u001b[38;5;241m=\u001b[39mnp\u001b[38;5;241m.\u001b[39m_NoValue,\n\u001b[1;32m   2929\u001b[0m          initial\u001b[38;5;241m=\u001b[39mnp\u001b[38;5;241m.\u001b[39m_NoValue, where\u001b[38;5;241m=\u001b[39mnp\u001b[38;5;241m.\u001b[39m_NoValue):\n\u001b[1;32m   2930\u001b[0m     \u001b[38;5;124;03m\"\"\"\u001b[39;00m\n\u001b[1;32m   2931\u001b[0m \u001b[38;5;124;03m    Return the product of array elements over a given axis.\u001b[39;00m\n\u001b[1;32m   2932\u001b[0m \n\u001b[0;32m   (...)\u001b[0m\n\u001b[1;32m   3043\u001b[0m \u001b[38;5;124;03m    10\u001b[39;00m\n\u001b[1;32m   3044\u001b[0m \u001b[38;5;124;03m    \"\"\"\u001b[39;00m\n\u001b[0;32m-> 3045\u001b[0m     \u001b[38;5;28;01mreturn\u001b[39;00m \u001b[43m_wrapreduction\u001b[49m\u001b[43m(\u001b[49m\u001b[43ma\u001b[49m\u001b[43m,\u001b[49m\u001b[43m \u001b[49m\u001b[43mnp\u001b[49m\u001b[38;5;241;43m.\u001b[39;49m\u001b[43mmultiply\u001b[49m\u001b[43m,\u001b[49m\u001b[43m \u001b[49m\u001b[38;5;124;43m'\u001b[39;49m\u001b[38;5;124;43mprod\u001b[39;49m\u001b[38;5;124;43m'\u001b[39;49m\u001b[43m,\u001b[49m\u001b[43m \u001b[49m\u001b[43maxis\u001b[49m\u001b[43m,\u001b[49m\u001b[43m \u001b[49m\u001b[43mdtype\u001b[49m\u001b[43m,\u001b[49m\u001b[43m \u001b[49m\u001b[43mout\u001b[49m\u001b[43m,\u001b[49m\n\u001b[1;32m   3046\u001b[0m \u001b[43m                          \u001b[49m\u001b[43mkeepdims\u001b[49m\u001b[38;5;241;43m=\u001b[39;49m\u001b[43mkeepdims\u001b[49m\u001b[43m,\u001b[49m\u001b[43m \u001b[49m\u001b[43minitial\u001b[49m\u001b[38;5;241;43m=\u001b[39;49m\u001b[43minitial\u001b[49m\u001b[43m,\u001b[49m\u001b[43m \u001b[49m\u001b[43mwhere\u001b[49m\u001b[38;5;241;43m=\u001b[39;49m\u001b[43mwhere\u001b[49m\u001b[43m)\u001b[49m\n",
      "File \u001b[0;32m/Library/Frameworks/Python.framework/Versions/3.9/lib/python3.9/site-packages/numpy/core/fromnumeric.py:86\u001b[0m, in \u001b[0;36m_wrapreduction\u001b[0;34m(obj, ufunc, method, axis, dtype, out, **kwargs)\u001b[0m\n\u001b[1;32m     83\u001b[0m         \u001b[38;5;28;01melse\u001b[39;00m:\n\u001b[1;32m     84\u001b[0m             \u001b[38;5;28;01mreturn\u001b[39;00m reduction(axis\u001b[38;5;241m=\u001b[39maxis, out\u001b[38;5;241m=\u001b[39mout, \u001b[38;5;241m*\u001b[39m\u001b[38;5;241m*\u001b[39mpasskwargs)\n\u001b[0;32m---> 86\u001b[0m \u001b[38;5;28;01mreturn\u001b[39;00m \u001b[43mufunc\u001b[49m\u001b[38;5;241;43m.\u001b[39;49m\u001b[43mreduce\u001b[49m\u001b[43m(\u001b[49m\u001b[43mobj\u001b[49m\u001b[43m,\u001b[49m\u001b[43m \u001b[49m\u001b[43maxis\u001b[49m\u001b[43m,\u001b[49m\u001b[43m \u001b[49m\u001b[43mdtype\u001b[49m\u001b[43m,\u001b[49m\u001b[43m \u001b[49m\u001b[43mout\u001b[49m\u001b[43m,\u001b[49m\u001b[43m \u001b[49m\u001b[38;5;241;43m*\u001b[39;49m\u001b[38;5;241;43m*\u001b[39;49m\u001b[43mpasskwargs\u001b[49m\u001b[43m)\u001b[49m\n",
      "\u001b[0;31mKeyboardInterrupt\u001b[0m: "
     ]
    }
   ],
   "source": [
    "#2b)\n",
    "#T-lav\n",
    "\n",
    "t = 5000\n",
    "T_low = 70\n",
    "T_high = 350\n",
    "\n",
    "V_1 = V_matrix(22, -4.0 * 10**(-21))\n",
    "V_2 = V_matrix(33, -4.0 * 10**(-21))\n",
    "\n",
    "energy_vals1 = simulate_energy(init_polymer(22), t, V_1, T_low)\n",
    "\n",
    "energy_vals2 = simulate_energy(init_polymer(33), t, V_2, T_high)\n",
    "\n",
    "plt.title()\n",
    "plt.xlabel()\n",
    "plt.ylabel()\n",
    "plt.grid()\n",
    "plt.plot(energy_vals1, t)\n",
    "plt.plot(energy_vals2, t)\n",
    "plt.show()"
   ]
  },
  {
   "cell_type": "code",
   "execution_count": null,
   "metadata": {},
   "outputs": [],
   "source": []
  }
 ],
 "metadata": {
  "kernelspec": {
   "display_name": "Python 3.8.5 ('base')",
   "language": "python",
   "name": "python3"
  },
  "language_info": {
   "codemirror_mode": {
    "name": "ipython",
    "version": 3
   },
   "file_extension": ".py",
   "mimetype": "text/x-python",
   "name": "python",
   "nbconvert_exporter": "python",
   "pygments_lexer": "ipython3",
   "version": "3.9.6"
  },
  "vscode": {
   "interpreter": {
    "hash": "51f0c450ce558fd09c6259683df616bd8e00817e0e69258804c8518c87b31cc8"
   }
  }
 },
 "nbformat": 4,
 "nbformat_minor": 2
}
