{
 "cells": [
  {
   "cell_type": "markdown",
   "metadata": {},
   "source": [
    "# Biofysikk prosjekt"
   ]
  },
  {
   "cell_type": "code",
   "execution_count": null,
   "metadata": {},
   "outputs": [],
   "source": [
    "import numpy as np\n",
    "import numba as nb\n",
    "from numba import njit, jit, int32\n",
    "import matplotlib.pyplot as plt"
   ]
  },
  {
   "cell_type": "markdown",
   "metadata": {},
   "source": [
    "#### Oppgave 1 Grunnleggende polymer-funksjonalitet\n",
    "a)\n",
    "Vi representerer hvert polymer i et array med dimensjon Nx2, hvor vi lagrer posisjonen til hvert monomer ved hjelp av koordinatene til monomeret ved hjelp av radene og kolonnene i arrayet. En annen metode hadde vært å lagre et array med dimensjon MxM, altså hele gitteret. Da hadde de resterend koordinatene hadde bestått av nullere. Siden vi er bare interresert i posisjonen til N monomerer velger vi å lagre dataen i et Nx2 array siden dette er mye raskere. (Finne ut hvor mye raskere/hvor mye midre tid dette tar). (Skriv noe mer om M)"
   ]
  },
  {
   "cell_type": "code",
   "execution_count": null,
   "metadata": {},
   "outputs": [],
   "source": [
    "N = 7  # Lengde på polymer\n",
    "M = 9  # Gitterdimensjon\n",
    "\n",
    "#Definerer først polymer som er et Nx2 array med datatype 32 bit\n",
    "def init_polymer(N):\n",
    "    polymer = np.zeros((N, 2), dtype=np.int32)\n",
    "    polymer[:, 1] = np.arange(N) #np.arange(N)\n",
    "    polymer[:, 0] = M // 2\n",
    "    return polymer\n",
    "\n",
    "init_polymer(N)"
   ]
  },
  {
   "cell_type": "markdown",
   "metadata": {},
   "source": [
    "c) \n",
    "Dersom et polymer roteres om et endepunkt, så vil det ikke endre noe og polymeren vil forbli i ro, da vi har valgt at det er den korte siden som skal roteres. Dermed vil det ikke oppstå noen nye vekselvirkninger og energien vil forbli den samme som før rotasjonen. Dette medfører at det vil være hensiksmessig å ikke inkludere endemonomeren i det tilfeldige utvalget monomeren trekkes fra. Vi vil derfor kun trekke fra 1 til N-1 i arrayet når vi skal velge hvilket monomer som skal roteres rundt."
   ]
  },
  {
   "cell_type": "code",
   "execution_count": null,
   "metadata": {},
   "outputs": [],
   "source": [
    "#d)\n",
    "\"\"\"\n",
    "def plot_polymer(polymer):\n",
    "    plt.plot(polymer[:, 1], -polymer[:, 0], 'o-')\n",
    "    plt.axis('equal')\n",
    "    plt.show()\n",
    "\"\"\"\n",
    "\n",
    "def plot_polymer(polymer):\n",
    "    # Assuming 'polymer' is an Nx2 numpy array\n",
    "    plt.figure()\n",
    "    num_points = polymer.shape[0]\n",
    "\n",
    "    # Generating different shades of green\n",
    "    greens = np.linspace(0.3, 1, num_points)  # Adjust the range for different shades\n",
    "    colors = [(0, green, 0, 1) for green in greens]  # RGB tuples with varying green component\n",
    "\n",
    "    # Plot the lines first\n",
    "    plt.plot(polymer[:, 1], polymer[:, 0], 'o-', color='grey', markersize=10, linewidth=2)\n",
    "\n",
    "    # Now plot each point and its number\n",
    "    for i in range(num_points):\n",
    "        # Plot each point with a different color\n",
    "        plt.plot(polymer[i, 1], polymer[i, 0], 'o', color=colors[i], markersize=15)\n",
    "\n",
    "        # Centering the number on the dot\n",
    "        plt.text(polymer[i, 1], polymer[i, 0], str(i+1), color='black', fontsize=12, \n",
    "                 horizontalalignment='center', verticalalignment='center')\n",
    "\n",
    "    plt.axis('equal')\n",
    "    plt.grid()\n",
    "    plt.show()\n",
    "    \n",
    "plot_polymer(init_polymer(N))\n"
   ]
  },
  {
   "cell_type": "code",
   "execution_count": null,
   "metadata": {},
   "outputs": [],
   "source": [
    "# e)\n",
    "def polymerCheck(polymer, N):\n",
    "    if len(polymer) != N:\n",
    "        return False\n",
    "    for i in range(N):\n",
    "        for j in range(N):\n",
    "            if i != j:\n",
    "                if polymer[i,0] == polymer[j,0] and polymer[i,1] == polymer[j,1]:\n",
    "                    return False\n",
    "    for i in range(N):\n",
    "        if i == 0 or i == N-1:\n",
    "            if not ((np.abs(polymer[i,0]-polymer[i+(-1 if i else 1),0]) == 1 and np.abs(polymer[i,1]-polymer[i+(-1 if i else 1),1]) == 0) or \n",
    "                    (np.abs(polymer[i,1]-polymer[i+(-1 if i else 1),1]) == 1 and np.abs(polymer[i,0]-polymer[i+(-1 if i else 1),0]) == 0)):\n",
    "                return False\n",
    "        else:\n",
    "            if not ((np.abs(polymer[i,0]-polymer[i+1,0]) == 1 and np.abs(polymer[i,1]-polymer[i+1,1]) == 0) or\n",
    "                    (np.abs(polymer[i,1]-polymer[i+1,1]) == 1 and np.abs(polymer[i,0]-polymer[i+1,0]) == 0) or\n",
    "                    (np.abs(polymer[i,0]-polymer[i-1,0]) == 1 and np.abs(polymer[i,1]-polymer[i-1,1]) == 0) or\n",
    "                    (np.abs(polymer[i,1]-polymer[i-1,1]) == 1 and np.abs(polymer[i,0]-polymer[i-1,0]) == 0)):\n",
    "                return False\n",
    "    return True\n",
    "\n",
    "print(polymerCheck(init_polymer(7),7))"
   ]
  },
  {
   "cell_type": "code",
   "execution_count": null,
   "metadata": {},
   "outputs": [],
   "source": [
    "from numba import jit, njit\n",
    "# njit: No-Python mode JIT (Just-In-Time compilation)\n",
    "\n",
    "CW_ROTATION_MATRIX = np.array([[0, -1], [1, 0]])\n",
    "CCW_ROTATION_MATRIX = np.array([[0,1], [-1,0]])\n",
    "\n",
    "# @njit\n",
    "def rotate_polymer(polymer: np.ndarray, clockwise: bool) -> np.ndarray: \n",
    "    \"\"\"\n",
    "    polymer: input polymer (or sub-polymer) (N x 2)\n",
    "    clockwise: direction of rotation\n",
    "    \"\"\"\n",
    "    # Rotate the polymer by 90 degrees in the right direction (matrix multiplication with rotation matrix, follow `clockwise`)\n",
    "    # Use the rotation matrices defined in constants above\n",
    "    rotation_matrix = ... # Choose the right rotation matrix\n",
    "    rotated_polymer: np.ndarray = polymer @ rotation_matrix.T\n",
    "\n",
    "    return rotated_polymer\n",
    "\n",
    "# @njit\n",
    "def twist_polymer(polymer: np.ndarray, monomer_idx: int, clockwise: bool) -> np.ndarray:\n",
    "    \"\"\"\n",
    "    polymer: input polymer (N x 2)\n",
    "    monomer_idx: index of monomer to twist\n",
    "    clockwise: direction of twist\n",
    "    \"\"\"\n",
    "    # Check which side is shorter\n",
    "    shorter_side = True\n",
    "    for i in range(N):\n",
    "        if monomer_idx == polymer[i]:\n",
    "            if i>N/2:\n",
    "                if \n",
    "      # True if shorter side is 0..=monomer_idx-1, False if shorter side is monomer_idx+1..=N-1\n",
    "    \n",
    "\n",
    "    # Slice array to get the smaller side\n",
    "    shorter_sub_polymer: np.ndarray = ...\n",
    "\n",
    "    # Translate the shorter sub-polymer to origin at polymer[monomer_idx]\n",
    "    center = polymer[monomer_idx]\n",
    "    centered_sub_polymer: np.ndarray = ...\n",
    "\n",
    "    # Rotate the shorter sub-polymer by 90 degrees in the right direction (matrix multiplication with rotation matrix, follow `clockwise`)\n",
    "    # Use the rotation matrices defined in constants above\n",
    "    rotated_sub_polymer: np.ndarray = ...\n",
    "\n",
    "    # Translate back to get final sub_polymer position\n",
    "    twisted_sub_polymer: np.ndarray = ...\n",
    "\n",
    "    # Combine the two sub-polymers into a new polymer\n",
    "    twisted_polymer: np.ndarray = np.concatenate((..., ...), axis=0)\n",
    "\n",
    "    return twisted_polymer\n",
    "    \n",
    "\n",
    "# @njit uncomment!\n",
    "def valid_polymer(polymer: np.ndarray) -> bool:\n",
    "    # Needs to be fast!\n",
    "    raise NotImplementedError()\n",
    "\n",
    "#Algoritme1\n",
    "def random_rotations(polymer: np.ndarray, N_s: int) -> np.ndarray:\n",
    "    \"\"\"\n",
    "    polymer: input polymer (N x 2)\n",
    "    N_s: number of random rotation attempts\n",
    "    \"\"\"\n",
    "    counter = 0  # TODO: Make sure this is correct -- ask TA\n",
    "    current_polymer = polymer\n",
    "    clockwise_draws = np.random.rand(N_s) < 0.5\n",
    "    mon_idx_draws = np.random.randint(1, N - 1, size=N_s)  # Exclusive range [1, N-1), don't include end points\n",
    "    for i in range(N_s):\n",
    "        clockwise = clockwise_draws[i]\n",
    "        mon_idx = mon_idx_draws[i]\n",
    "        twisted_polymer = twist_polymer(polymer=current_polymer, monomer_idx=mon_idx, clockwise=clockwise)\n",
    "        if valid_polymer(twisted_polymer):\n",
    "            counter += 1\n",
    "            current_polymer = twisted_polymer\n",
    "    return current_polymer, counter"
   ]
  },
  {
   "cell_type": "code",
   "execution_count": null,
   "metadata": {},
   "outputs": [],
   "source": [
    "# @njit\n",
    "def add_one(x):\n",
    "    for i in range(x.shape[0]):\n",
    "        x[i] += 1\n",
    "\n",
    "@njit\n",
    "def add_one_numba(x):\n",
    "    for i in range(x.shape[0]):\n",
    "        x[i] += 1\n",
    "\n",
    "arr = np.arange(10_000_000)"
   ]
  },
  {
   "cell_type": "code",
   "execution_count": null,
   "metadata": {},
   "outputs": [],
   "source": [
    "%timeit add_one(arr)\n",
    "%timeit add_one_numba(arr)"
   ]
  },
  {
   "cell_type": "code",
   "execution_count": null,
   "metadata": {},
   "outputs": [],
   "source": [
    "#j)\n",
    "def calculate_energy(twisted_polymer: np.ndarray, V: np.ndarray) -> float:\n",
    "    \"\"\"\n",
    "    twisted_polymer: input polymer (N x 2)\n",
    "    V: interaction matrix (N x N)\n",
    "    \"\"\""
   ]
  },
  {
   "cell_type": "code",
   "execution_count": null,
   "metadata": {},
   "outputs": [],
   "source": []
  }
 ],
 "metadata": {
  "kernelspec": {
   "display_name": "Python 3.8.5 ('base')",
   "language": "python",
   "name": "python3"
  },
  "language_info": {
   "codemirror_mode": {
    "name": "ipython",
    "version": 3
   },
   "file_extension": ".py",
   "mimetype": "text/x-python",
   "name": "python",
   "nbconvert_exporter": "python",
   "pygments_lexer": "ipython3",
   "version": "3.9.6"
  },
  "vscode": {
   "interpreter": {
    "hash": "51f0c450ce558fd09c6259683df616bd8e00817e0e69258804c8518c87b31cc8"
   }
  }
 },
 "nbformat": 4,
 "nbformat_minor": 2
}
