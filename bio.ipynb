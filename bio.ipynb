{
 "cells": [
  {
   "cell_type": "markdown",
   "metadata": {},
   "source": [
    "# Biofysikk prosjekt"
   ]
  },
  {
   "cell_type": "code",
   "execution_count": 1,
   "metadata": {},
   "outputs": [
    {
     "name": "stdout",
     "output_type": "stream",
     "text": [
      "Hei\n"
     ]
    }
   ],
   "source": [
    "import numpy as np\n",
    "import numba as nb\n",
    "import matplotlib.pyplot as plt\n",
    "print(\"Hei\")"
   ]
  },
  {
   "cell_type": "markdown",
   "metadata": {},
   "source": [
    "#### Grunnleggende polymer-funksjonalitet\n",
    "Vi representerer hvert polymer i et array med dimensjon Nx2, hvor vi lagrer posisjonen til hvert monomer ved hjelp av koordinatene til monomeret ved hjelp av radene og kolonnene i arrayet. En annen metode hadde vært å lagre et array med dimensjon MxM, altså hele gitteret. Da hadde de resterend koordinatene hadde bestått av nullere. Siden vi er bare interresert i posisjonen til N monomerer velger vi å lagre dataen i et Nx2 array siden dette er mye raskere. (Finne ut hvor mye raskere/hvor mye midre tid dette tar). (Skriv noe mer om M)"
   ]
  },
  {
   "cell_type": "code",
   "execution_count": 4,
   "metadata": {},
   "outputs": [
    {
     "name": "stdout",
     "output_type": "stream",
     "text": [
      "[0 0 0 0 0 0 0]\n"
     ]
    },
    {
     "data": {
      "text/plain": [
       "array([[4, 0],\n",
       "       [4, 1],\n",
       "       [4, 2],\n",
       "       [4, 3],\n",
       "       [4, 4],\n",
       "       [4, 5],\n",
       "       [4, 6]], dtype=int32)"
      ]
     },
     "execution_count": 4,
     "metadata": {},
     "output_type": "execute_result"
    }
   ],
   "source": [
    "N = 7  # Lengde på polymer\n",
    "M = 9  # Gitterdimensjon\n",
    "\n",
    "#Definerer først polymer som er et Nx2 array med datatype 32 bit\n",
    "def init_polymer(N):\n",
    "    polymer = np.zeros((N, 2), dtype=np.int32)\n",
    "    print(polymer[:,1])\n",
    "    polymer[:, 1] = np.arange(N)\n",
    "    polymer[:, 0] = M // 2\n",
    "    return polymer\n",
    "\n",
    "init_polymer(N)"
   ]
  },
  {
   "cell_type": "markdown",
   "metadata": {},
   "source": [
    "1c) Dersom et polymer roteres om et endepunkt, så vil det ikke endre noe og polymeren vil forbli i ro, da vi har valgt at det er den korte siden som skal roteres. Dermed vil det ikke oppstå noen nye vekselvirkninger og energien vil forbli den samme som før rotasjonen. Dette medfører at det vil være hensiksmessig å ikke inkludere endemonomeren i det tilfeldige utvalget monomeren trekkes fra. Vi vil derfor kun trekke fra 1 til N-1 i arrayet når vi skal velge hvilket monomer som skal roteres rundt."
   ]
  },
  {
   "cell_type": "code",
   "execution_count": 7,
   "metadata": {},
   "outputs": [
    {
     "name": "stdout",
     "output_type": "stream",
     "text": [
      "[0 0 0 0 0 0 0]\n"
     ]
    },
    {
     "data": {
      "image/png": "[encoded data removed]",
      "text/plain": [
       "<Figure size 432x288 with 1 Axes>"
      ]
     },
     "metadata": {
      "needs_background": "light"
     },
     "output_type": "display_data"
    }
   ],
   "source": [
    "def plot_polymer(polymer):\n",
    "    plt.plot(polymer[:, 1], -polymer[:, 0], 'o-')\n",
    "    plt.axis('equal')\n",
    "    plt.show()\n",
    "\n",
    "plot_polymer(init_polymer(N))\n",
    "\n"
   ]
  },
  {
   "cell_type": "code",
   "execution_count": 21,
   "metadata": {},
   "outputs": [
    {
     "name": "stdout",
     "output_type": "stream",
     "text": [
      "[0 0 0 0 0 0 0]\n"
     ]
    },
    {
     "data": {
      "image/png": "[encoded data removed]",
      "text/plain": [
       "<Figure size 432x288 with 1 Axes>"
      ]
     },
     "metadata": {
      "needs_background": "light"
     },
     "output_type": "display_data"
    }
   ],
   "source": [
    "def plot_array_in_grid(array):\n",
    "    cols, rows = array.shape\n",
    "\n",
    "    # Create a grid of subplots\n",
    "    fig, ax = plt.subplots()\n",
    "    cax = ax.matshow(array, cmap='viridis')  # 'viridis' is just an example colormap\n",
    "\n",
    "    # Set ticks and labels\n",
    "    ax.set_xticks(np.arange(cols))\n",
    "    ax.set_yticks(np.arange(cols))\n",
    "    ax.set_xticklabels(np.arange(1, cols + 1))\n",
    "    ax.set_yticklabels(np.arange(1, cols + 1))\n",
    "\n",
    "    plt.show()\n",
    "\n",
    "plot_array_in_grid(init_polymer(N))"
   ]
  },
  {
   "cell_type": "code",
   "execution_count": 30,
   "metadata": {},
   "outputs": [
    {
     "name": "stdout",
     "output_type": "stream",
     "text": [
      "True\n"
     ]
    }
   ],
   "source": [
    "def polymerCheck(polymer, N):\n",
    "    if len(polymer) != N:\n",
    "        return False\n",
    "    for i in range(N):\n",
    "        for j in range(N):\n",
    "            if i != j:\n",
    "                if polymer[i] == polymer[j]:\n",
    "                    return False\n",
    "    for i in range(N):\n",
    "        if i == 0:\n",
    "            a=1\n",
    "    #Få til 3. \n",
    "\n",
    "    return True\n",
    "\n",
    "print(polymerCheck(list(init_polymer(7)), 7))"
   ]
  },
  {
   "cell_type": "code",
   "execution_count": 11,
   "metadata": {},
   "outputs": [],
   "source": [
    "from numba import jit, njit\n",
    "# njit: No-Python mode JIT (Just-In-Time compilation)\n",
    "\n",
    "CW_ROTATION_MATRIX = ...\n",
    "CCW_ROTATION_MATRIX = ...\n",
    "\n",
    "# @njit\n",
    "def rotate_polymer(polymer: np.ndarray, clockwise: bool) -> np.ndarray:\n",
    "    \"\"\"\n",
    "    polymer: input polymer (or sub-polymer) (N x 2)\n",
    "    clockwise: direction of rotation\n",
    "    \"\"\"\n",
    "    # Rotate the polymer by 90 degrees in the right direction (matrix multiplication with rotation matrix, follow `clockwise`)\n",
    "    # Use the rotation matrices defined in constants above\n",
    "    rotation_matrix = ... # Choose the right rotation matrix\n",
    "    rotated_polymer: np.ndarray = polymer @ rotation_matrix.T\n",
    "\n",
    "    return rotated_polymer\n",
    "\n",
    "# @njit\n",
    "def twist_polymer(polymer: np.ndarray, monomer_idx: int, clockwise: bool) -> np.ndarray:\n",
    "    \"\"\"\n",
    "    polymer: input polymer (N x 2)\n",
    "    monomer_idx: index of monomer to twist\n",
    "    clockwise: direction of twist\n",
    "    \"\"\"\n",
    "    # Check which side is shorter\n",
    "    shorter_side = ...  # True if shorter side is 0..=monomer_idx-1, False if shorter side is monomer_idx+1..=N-1\n",
    "\n",
    "    # Slice array to get the smaller side\n",
    "    shorter_sub_polymer: np.ndarray = ...\n",
    "\n",
    "    # Translate the shorter sub-polymer to origin at polymer[monomer_idx]\n",
    "    center = polymer[monomer_idx]\n",
    "    centered_sub_polymer: np.ndarray = ...\n",
    "\n",
    "    # Rotate the shorter sub-polymer by 90 degrees in the right direction (matrix multiplication with rotation matrix, follow `clockwise`)\n",
    "    # Use the rotation matrices defined in constants above\n",
    "    rotated_sub_polymer: np.ndarray = ...\n",
    "\n",
    "    # Translate back to get final sub_polymer position\n",
    "    twisted_sub_polymer: np.ndarray = ...\n",
    "\n",
    "    # Combine the two sub-polymers into a new polymer\n",
    "    twisted_polymer: np.ndarray = np.concatenate((..., ...), axis=0)\n",
    "\n",
    "    return twisted_polymer\n",
    "\n",
    "# @njit uncomment!\n",
    "def valid_polymer(polymer: np.ndarray) -> bool:\n",
    "    # Needs to be fast!\n",
    "    raise NotImplementedError()\n",
    "\n",
    "def random_rotations(polymer: np.ndarray, N_s: int) -> np.ndarray:\n",
    "    \"\"\"\n",
    "    polymer: input polymer (N x 2)\n",
    "    N_s: number of random rotation attempts\n",
    "    \"\"\"\n",
    "    counter = 0  # TODO: Make sure this is correct -- ask TA\n",
    "    current_polymer = polymer\n",
    "    clockwise_draws = np.random.rand(N_s) < 0.5\n",
    "    mon_idx_draws = np.random.randint(1, N - 1, size=N_s)  # Exclusive range [1, N-1), don't include end points\n",
    "    for i in range(N_s):\n",
    "        clockwise = clockwise_draws[i]\n",
    "        mon_idx = mon_idx_draws[i]\n",
    "        twisted_polymer = twist_polymer(polymer=current_polymer, monomer_idx=mon_idx, clockwise=clockwise)\n",
    "        if valid_polymer(twisted_polymer):\n",
    "            counter += 1\n",
    "            current_polymer = twisted_polymer\n",
    "    return current_polymer, counter"
   ]
  },
  {
   "cell_type": "code",
   "execution_count": 12,
   "metadata": {},
   "outputs": [],
   "source": [
    "# @njit\n",
    "def add_one(x):\n",
    "    for i in range(x.shape[0]):\n",
    "        x[i] += 1\n",
    "\n",
    "@njit\n",
    "def add_one_numba(x):\n",
    "    for i in range(x.shape[0]):\n",
    "        x[i] += 1\n",
    "\n",
    "arr = np.arange(10_000_000)"
   ]
  },
  {
   "cell_type": "code",
   "execution_count": 13,
   "metadata": {},
   "outputs": [
    {
     "name": "stdout",
     "output_type": "stream",
     "text": [
      "2.2 s ± 39.5 ms per loop (mean ± std. dev. of 7 runs, 1 loop each)\n",
      "7.46 ms ± 468 µs per loop (mean ± std. dev. of 7 runs, 1 loop each)\n"
     ]
    }
   ],
   "source": [
    "%timeit add_one(arr)\n",
    "%timeit add_one_numba(arr)"
   ]
  },
  {
   "cell_type": "code",
   "execution_count": null,
   "metadata": {},
   "outputs": [],
   "source": [
    "def calculate_energy(twisted_polymer: np.ndarray, V: np.ndarray) -> float:\n",
    "    \"\"\"\n",
    "    twisted_polymer: input polymer (N x 2)\n",
    "    V: interaction matrix (N x N)\n",
    "    \"\"\""
   ]
  }
 ],
 "metadata": {
  "kernelspec": {
   "display_name": "Python 3.8.5 ('base')",
   "language": "python",
   "name": "python3"
  },
  "language_info": {
   "codemirror_mode": {
    "name": "ipython",
    "version": 3
   },
   "file_extension": ".py",
   "mimetype": "text/x-python",
   "name": "python",
   "nbconvert_exporter": "python",
   "pygments_lexer": "ipython3",
   "version": "3.8.5"
  },
  "vscode": {
   "interpreter": {
    "hash": "51f0c450ce558fd09c6259683df616bd8e00817e0e69258804c8518c87b31cc8"
   }
  }
 },
 "nbformat": 4,
 "nbformat_minor": 2
}
