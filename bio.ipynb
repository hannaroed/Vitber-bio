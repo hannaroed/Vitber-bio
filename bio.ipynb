{
 "cells": [
  {
   "cell_type": "code",
   "execution_count": 2,
   "metadata": {},
   "outputs": [],
   "source": [
    "import numpy as np\n",
    "import numba as nb\n",
    "import matplotlib.pyplot as plt"
   ]
  },
  {
   "cell_type": "code",
   "execution_count": 6,
   "metadata": {},
   "outputs": [
    {
     "data": {
      "text/plain": [
       "array([[4, 0],\n",
       "       [4, 1],\n",
       "       [4, 2],\n",
       "       [4, 3],\n",
       "       [4, 4],\n",
       "       [4, 5],\n",
       "       [4, 6]], dtype=int32)"
      ]
     },
     "execution_count": 6,
     "metadata": {},
     "output_type": "execute_result"
    }
   ],
   "source": [
    "N = 7  # Lengde på polymer\n",
    "M = 9  # Gitterdimensjon\n",
    "\n",
    "def init_polymer():\n",
    "    polymer = np.zeros((N, 2), dtype=np.int32)\n",
    "    polymer[:, 1] = np.arange(N)\n",
    "    polymer[:, 0] = M // 2\n",
    "    return polymer\n",
    "\n",
    "init_polymer()"
   ]
  },
  {
   "cell_type": "code",
   "execution_count": 10,
   "metadata": {},
   "outputs": [
    {
     "data": {
      "image/png": "[encoded data removed]",
      "text/plain": [
       "<Figure size 640x480 with 1 Axes>"
      ]
     },
     "metadata": {},
     "output_type": "display_data"
    }
   ],
   "source": [
    "def plot_polymer(polymer):\n",
    "    plt.plot(polymer[:, 1], -polymer[:, 0], 'o-')\n",
    "    plt.axis('equal')\n",
    "    plt.show()\n",
    "\n",
    "plot_polymer(init_polymer())"
   ]
  },
  {
   "cell_type": "code",
   "execution_count": null,
   "metadata": {},
   "outputs": [],
   "source": []
  },
  {
   "cell_type": "code",
   "execution_count": 11,
   "metadata": {},
   "outputs": [],
   "source": [
    "from numba import jit, njit\n",
    "# njit: No-Python mode JIT (Just-In-Time compilation)\n",
    "\n",
    "CW_ROTATION_MATRIX = ...\n",
    "CCW_ROTATION_MATRIX = ...\n",
    "\n",
    "# @njit\n",
    "def rotate_polymer(polymer: np.ndarray, clockwise: bool) -> np.ndarray:\n",
    "    \"\"\"\n",
    "    polymer: input polymer (or sub-polymer) (N x 2)\n",
    "    clockwise: direction of rotation\n",
    "    \"\"\"\n",
    "    # Rotate the polymer by 90 degrees in the right direction (matrix multiplication with rotation matrix, follow `clockwise`)\n",
    "    # Use the rotation matrices defined in constants above\n",
    "    rotation_matrix = ... # Choose the right rotation matrix\n",
    "    rotated_polymer: np.ndarray = polymer @ rotation_matrix.T\n",
    "\n",
    "    return rotated_polymer\n",
    "\n",
    "# @njit\n",
    "def twist_polymer(polymer: np.ndarray, monomer_idx: int, clockwise: bool) -> np.ndarray:\n",
    "    \"\"\"\n",
    "    polymer: input polymer (N x 2)\n",
    "    monomer_idx: index of monomer to twist\n",
    "    clockwise: direction of twist\n",
    "    \"\"\"\n",
    "    # Check which side is shorter\n",
    "    shorter_side = ...  # True if shorter side is 0..=monomer_idx-1, False if shorter side is monomer_idx+1..=N-1\n",
    "\n",
    "    # Slice array to get the smaller side\n",
    "    shorter_sub_polymer: np.ndarray = ...\n",
    "\n",
    "    # Translate the shorter sub-polymer to origin at polymer[monomer_idx]\n",
    "    center = polymer[monomer_idx]\n",
    "    centered_sub_polymer: np.ndarray = ...\n",
    "\n",
    "    # Rotate the shorter sub-polymer by 90 degrees in the right direction (matrix multiplication with rotation matrix, follow `clockwise`)\n",
    "    # Use the rotation matrices defined in constants above\n",
    "    rotated_sub_polymer: np.ndarray = ...\n",
    "\n",
    "    # Translate back to get final sub_polymer position\n",
    "    twisted_sub_polymer: np.ndarray = ...\n",
    "\n",
    "    # Combine the two sub-polymers into a new polymer\n",
    "    twisted_polymer: np.ndarray = np.concatenate((..., ...), axis=0)\n",
    "\n",
    "    return twisted_polymer\n",
    "\n",
    "# @njit uncomment!\n",
    "def valid_polymer(polymer: np.ndarray) -> bool:\n",
    "    # Needs to be fast!\n",
    "    raise NotImplementedError()\n",
    "\n",
    "def random_rotations(polymer: np.ndarray, N_s: int) -> np.ndarray:\n",
    "    \"\"\"\n",
    "    polymer: input polymer (N x 2)\n",
    "    N_s: number of random rotation attempts\n",
    "    \"\"\"\n",
    "    counter = 0  # TODO: Make sure this is correct -- ask TA\n",
    "    current_polymer = polymer\n",
    "    clockwise_draws = np.random.rand(N_s) < 0.5\n",
    "    mon_idx_draws = np.random.randint(1, N - 1, size=N_s)  # Exclusive range [1, N-1), don't include end points\n",
    "    for i in range(N_s):\n",
    "        clockwise = clockwise_draws[i]\n",
    "        mon_idx = mon_idx_draws[i]\n",
    "        twisted_polymer = twist_polymer(polymer=current_polymer, monomer_idx=mon_idx, clockwise=clockwise)\n",
    "        if valid_polymer(twisted_polymer):\n",
    "            counter += 1\n",
    "            current_polymer = twisted_polymer\n",
    "    return current_polymer, counter"
   ]
  },
  {
   "cell_type": "code",
   "execution_count": 12,
   "metadata": {},
   "outputs": [],
   "source": [
    "# @njit\n",
    "def add_one(x):\n",
    "    for i in range(x.shape[0]):\n",
    "        x[i] += 1\n",
    "\n",
    "@njit\n",
    "def add_one_numba(x):\n",
    "    for i in range(x.shape[0]):\n",
    "        x[i] += 1\n",
    "\n",
    "arr = np.arange(10_000_000)"
   ]
  },
  {
   "cell_type": "code",
   "execution_count": 13,
   "metadata": {},
   "outputs": [
    {
     "name": "stdout",
     "output_type": "stream",
     "text": [
      "2.2 s ± 39.5 ms per loop (mean ± std. dev. of 7 runs, 1 loop each)\n",
      "7.46 ms ± 468 µs per loop (mean ± std. dev. of 7 runs, 1 loop each)\n"
     ]
    }
   ],
   "source": [
    "%timeit add_one(arr)\n",
    "%timeit add_one_numba(arr)"
   ]
  },
  {
   "cell_type": "code",
   "execution_count": null,
   "metadata": {},
   "outputs": [],
   "source": [
    "def calculate_energy(twisted_polymer: np.ndarray, V: np.ndarray) -> float:\n",
    "    \"\"\"\n",
    "    twisted_polymer: input polymer (N x 2)\n",
    "    V: interaction matrix (N x N)\n",
    "    \"\"\""
   ]
  }
 ],
 "metadata": {
  "kernelspec": {
   "display_name": "Python 3",
   "language": "python",
   "name": "python3"
  },
  "language_info": {
   "codemirror_mode": {
    "name": "ipython",
    "version": 3
   },
   "file_extension": ".py",
   "mimetype": "text/x-python",
   "name": "python",
   "nbconvert_exporter": "python",
   "pygments_lexer": "ipython3",
   "version": "3.9.6"
  }
 },
 "nbformat": 4,
 "nbformat_minor": 2
}
